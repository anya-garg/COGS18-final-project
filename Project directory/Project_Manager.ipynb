{
 "cells": [
  {
   "cell_type": "markdown",
   "id": "91f9ccc9",
   "metadata": {},
   "source": [
    "# Final Project: Project Manager"
   ]
  },
  {
   "cell_type": "markdown",
   "id": "8eb92736",
   "metadata": {},
   "source": [
    "### Project Description\n",
    "\n",
    "This project manager  handles two inputs to plan a schedule for efficient task completion. It integrates a roster of project team members, along with their individual skill sets, and a task list accompanied by relevant details about each duty. These inputs allow the system to create a personalized schedule that optimizes resource utilization and for the project it is used to manage.\n",
    "\n",
    "This schedule is presented in the form of a pandas DataFrame. Each row corresponds to a day, while columns represent individual team members. The program appropriately allocates tasks within the grid, ensuring a balanced distribution across the schedule.\n",
    "\n",
    "I enjoyed making this project, as I keep seeing task-organization apps online, but all of them seem to just let the user decide where to put the tasks and provide a user interface to do so. That's why I wanted to create a program that would organize tasks for you, and I think I learned a lot through creating this project. "
   ]
  },
  {
   "cell_type": "markdown",
   "id": "8e190f7c",
   "metadata": {},
   "source": [
    "### My Approach\n",
    "\n",
    "1. Initialization of Classes:\n",
    "\n",
    "Two classes are defined: TeamMember and Task.\n",
    "Each initialization of the TeamMember class represents a member of the project team with a name and a set of skills.\n",
    "Similarly, each initialization of the Task class represents a project task, where a user can input pertinent details such as the name of the task, time it will require to be carried out, amd the required skills to perform the task, which will then  be modified to include an assigned person for the task.\n",
    "\n",
    "2. Sorting Tasks by Time:\n",
    "\n",
    "The sort_time function sorts the list of tasks in descending order based on the time required to complete each task. This ensures that no day will be overcrowded with work. \n",
    "\n",
    "3. Assigning Tasks to Team Members:\n",
    "\n",
    "The assign_tasks function assigns tasks to team members based on their skillset and availability. It iterates through each task and checks if any team member possesses all the required skills for that task. If a suitable team member is found, the task is assigned to them. If no team member has all the required skills, the task is assigned to the team member with the least workload.\n",
    "\n",
    "4. Identifying the Shortest Day of Tasks:\n",
    "\n",
    "The shortest_day_of_tasks function identifies the day with the minimum total duration occupied by tasks. It calculates the total time taken by tasks on each day and selects the day with the shortest duration, making use of the earlier sorting-tasks-by-time function.\n",
    "\n",
    "5. Splitting Tasks into Daily Allotments:\n",
    "\n",
    "The split_daily function divides the tasks into daily allotments based on the chosen day or evenly distributes them if no specific day is chosen. It organizes tasks into lists for each day of the week. this will later be presented in a table once this is put into the pandas format. \n",
    "\n",
    "6. Distributing Tasks per Person:\n",
    "\n",
    "The distribute_per_person function separates tasks into a dictionary representing each team member's tasks for the week. It loops through each task in the week and sorts tasks into a dictionary based on the assigned person, to format the previous information into a format that can be more easily processed.\n",
    "\n",
    "7. Task Allocation:\n",
    "\n",
    "The task_allocator function brings together all the previously defined functions to distribute tasks among team members. It first assigns tasks to team members using the assign_tasks function. Then, it splits the tasks into daily allotments using the split_daily function. Finally, it distributes tasks per person using the distribute_per_person function and formats the output as a pandas DataFrame.\n",
    "\n",
    "8. Formatting Tasks into a DataFrame:\n",
    "\n",
    "The table_format function structures segmented tasks into a visual DataFrame. It creates a pandas DataFrame where each row represents a day of the week, and each column represents a team member. Task names are populated in the corresponding cells based on the task allocation."
   ]
  },
  {
   "cell_type": "markdown",
   "id": "06468d87",
   "metadata": {},
   "source": [
    "### Demonstration"
   ]
  },
  {
   "cell_type": "code",
   "execution_count": 10,
   "id": "9a921737",
   "metadata": {},
   "outputs": [
    {
     "data": {
      "text/html": [
       "<div>\n",
       "<style scoped>\n",
       "    .dataframe tbody tr th:only-of-type {\n",
       "        vertical-align: middle;\n",
       "    }\n",
       "\n",
       "    .dataframe tbody tr th {\n",
       "        vertical-align: top;\n",
       "    }\n",
       "\n",
       "    .dataframe thead th {\n",
       "        text-align: right;\n",
       "    }\n",
       "</style>\n",
       "<table border=\"1\" class=\"dataframe\">\n",
       "  <thead>\n",
       "    <tr style=\"text-align: right;\">\n",
       "      <th></th>\n",
       "      <th>Thu</th>\n",
       "      <th>Prini</th>\n",
       "      <th>Belen</th>\n",
       "      <th>Anya</th>\n",
       "      <th>Trisha</th>\n",
       "    </tr>\n",
       "  </thead>\n",
       "  <tbody>\n",
       "    <tr>\n",
       "      <th>Mon</th>\n",
       "      <td></td>\n",
       "      <td></td>\n",
       "      <td></td>\n",
       "      <td>Summarize project</td>\n",
       "      <td>Write fifth section</td>\n",
       "    </tr>\n",
       "    <tr>\n",
       "      <th>Tue</th>\n",
       "      <td></td>\n",
       "      <td></td>\n",
       "      <td>Write first section</td>\n",
       "      <td></td>\n",
       "      <td>Check answers with TA</td>\n",
       "    </tr>\n",
       "    <tr>\n",
       "      <th>Wed</th>\n",
       "      <td></td>\n",
       "      <td>Edit section 1-2</td>\n",
       "      <td>Write bibliography</td>\n",
       "      <td></td>\n",
       "      <td></td>\n",
       "    </tr>\n",
       "    <tr>\n",
       "      <th>Thu</th>\n",
       "      <td>Write second section</td>\n",
       "      <td>Write fourth section</td>\n",
       "      <td></td>\n",
       "      <td></td>\n",
       "      <td></td>\n",
       "    </tr>\n",
       "    <tr>\n",
       "      <th>Fri</th>\n",
       "      <td></td>\n",
       "      <td>Assign citations</td>\n",
       "      <td></td>\n",
       "      <td></td>\n",
       "      <td></td>\n",
       "    </tr>\n",
       "    <tr>\n",
       "      <th>Sat</th>\n",
       "      <td>Edit section 3-5</td>\n",
       "      <td></td>\n",
       "      <td></td>\n",
       "      <td></td>\n",
       "      <td></td>\n",
       "    </tr>\n",
       "    <tr>\n",
       "      <th>Sun</th>\n",
       "      <td></td>\n",
       "      <td></td>\n",
       "      <td></td>\n",
       "      <td>Write third section</td>\n",
       "      <td>Format slides</td>\n",
       "    </tr>\n",
       "  </tbody>\n",
       "</table>\n",
       "</div>"
      ],
      "text/plain": [
       "                      Thu                 Prini                Belen  \\\n",
       "Mon                                                                    \n",
       "Tue                                              Write first section   \n",
       "Wed                            Edit section 1-2   Write bibliography   \n",
       "Thu  Write second section  Write fourth section                        \n",
       "Fri                            Assign citations                        \n",
       "Sat      Edit section 3-5                                              \n",
       "Sun                                                                    \n",
       "\n",
       "                    Anya                 Trisha  \n",
       "Mon    Summarize project    Write fifth section  \n",
       "Tue                       Check answers with TA  \n",
       "Wed                                              \n",
       "Thu                                              \n",
       "Fri                                              \n",
       "Sat                                              \n",
       "Sun  Write third section          Format slides  "
      ]
     },
     "execution_count": 10,
     "metadata": {},
     "output_type": "execute_result"
    }
   ],
   "source": [
    "import pandas as pd\n",
    "\n",
    "from functions import TeamMember\n",
    "from functions import Task\n",
    "\n",
    "task1 = Task(\"Write first section\", 2, [\"Writing\", \"Biology\"])\n",
    "task2 = Task(\"Write second section\", 3, [\"Writing\", \"Chemistry\"])\n",
    "task3 = Task(\"Write third section\", 4, [\"Patience\", \"Math\"])\n",
    "task4 = Task(\"Write fourth section\", 1, [\"Math\", \"Chemistry\", \"Biology\"])\n",
    "task5 = Task(\"Write fifth section\", 2, [\"Patience\", \"Biology\"])\n",
    "task6 = Task(\"Edit section 1-2\", 1, [\"Editing\", \"Chemistry\"])\n",
    "task7 = Task(\"Edit section 3-5\", 4, [\"Math\", \"Reading\"])\n",
    "task8 = Task(\"Check answers with TA\", 2, [\"Reading\", \"Editing\"])\n",
    "task9 = Task(\"Summarize project\", 2, [\"Reading\", \"Biology\"])\n",
    "task10 = Task(\"Write bibliography\", 3, [\"Editing\", \"Writing\"])\n",
    "task11 = Task(\"Assign citations\", 4, [\"Reading\", \"Writing\"])\n",
    "task12 = Task(\"Format slides\", 1, [\"Editing\", \"Math\", \"Chemistry\"])\n",
    "\n",
    "member1 = TeamMember(\"Thu\", [\"Chemistry\", \"Writing\"])\n",
    "member2 = TeamMember(\"Prini\", [\"Biology\", \"Editing\"])\n",
    "member3 = TeamMember(\"Belen\", [\"Reading\", \"Patience\"])\n",
    "member4 = TeamMember(\"Anya\", [\"Math\", \"Writing\"])\n",
    "member5 = TeamMember(\"Trisha\",[\"Patience\", \"Biology\"])\n",
    "\n",
    "team1 = [member1, member2, member3, member4, member5]\n",
    "        \n",
    "        \n",
    "tasks = [task1, task2, task3, task4, task5, task6, task7, task8, task9, task10, task11, task12]\n",
    "Task.task_allocator(tasks, team1)\n",
    "\n",
    "Task.task_allocator(tasks, team1)"
   ]
  },
  {
   "cell_type": "markdown",
   "id": "97abef1d",
   "metadata": {},
   "source": [
    "This schedule shows the most optimized version of the task list presented, where each person performs tasks best suited to their abilities without overcrowding the amount of work to be done each day. \n",
    "\n",
    "Below, I will demonstrate my code passing the tests I have designed for it:"
   ]
  },
  {
   "cell_type": "code",
   "execution_count": 12,
   "id": "1069bded",
   "metadata": {},
   "outputs": [
    {
     "name": "stdout",
     "output_type": "stream",
     "text": [
      "\u001b[1m============================= test session starts ==============================\u001b[0m\n",
      "platform linux -- Python 3.9.5, pytest-7.4.4, pluggy-1.3.0\n",
      "rootdir: /home/a7garg/Project directory\n",
      "plugins: anyio-3.2.1\n",
      "collected 3 items                                                              \u001b[0m\u001b[1m\n",
      "\n",
      "Module/tests.py \u001b[32m.\u001b[0m\u001b[32m.\u001b[0m\u001b[32m.\u001b[0m\u001b[32m                                                      [100%]\u001b[0m\n",
      "\n",
      "\u001b[32m============================== \u001b[32m\u001b[1m3 passed\u001b[0m\u001b[32m in 0.70s\u001b[0m\u001b[32m ===============================\u001b[0m\n"
     ]
    }
   ],
   "source": [
    "!pytest Module/tests.py"
   ]
  },
  {
   "cell_type": "markdown",
   "id": "e9e3aeae",
   "metadata": {},
   "source": [
    "### Extra Credit\n",
    "\n",
    "Prior to this course, I have never programmed in python. In middle school, I took a brief html coding course on codecademy, but nothing throughout highschool. This is my frist official coding class. I believe I engaged in challenging code, beyond what I learned, creating 2 classes and 7 functions beyong the 3 functions that were required. below, I have listed some new skills I have learned beyond the course:\n",
    "\n",
    "1. turning a dictionary into a pandas DataFrame, and creating a dictionary with unfamiliar notation\n",
    "2. using unfamiliar functions, such as distribute and apply\n",
    "3. creating complex and multi-layered loops/conditionals, with complexity exceeding those we used in assignments\n",
    "\n",
    "I really enjoyed this project, and hope to take more coding classes after this one."
   ]
  }
 ],
 "metadata": {
  "kernelspec": {
   "display_name": "Python 3 (ipykernel)",
   "language": "python",
   "name": "python3"
  },
  "language_info": {
   "codemirror_mode": {
    "name": "ipython",
    "version": 3
   },
   "file_extension": ".py",
   "mimetype": "text/x-python",
   "name": "python",
   "nbconvert_exporter": "python",
   "pygments_lexer": "ipython3",
   "version": "3.9.5"
  }
 },
 "nbformat": 4,
 "nbformat_minor": 5
}
